{
 "cells": [
  {
   "cell_type": "code",
   "execution_count": 1,
   "metadata": {},
   "outputs": [],
   "source": [
    "import matplotlib.pyplot as plt\n",
    "import numpy as np \n",
    "import pandas as pd\n",
    "import csv\n",
    "from pathlib import Path"
   ]
  },
  {
   "cell_type": "code",
   "execution_count": 7,
   "metadata": {},
   "outputs": [],
   "source": [
    "pop_density = Path(\"C:/Users/cmfjr/PROJECT1/project-1/pop_density.csv\")\n",
    "pop_density_df = pd.read_csv(pop_density)"
   ]
  },
  {
   "cell_type": "code",
   "execution_count": 12,
   "metadata": {},
   "outputs": [
    {
     "data": {
      "text/plain": [
       "0        93.97\n",
       "1     10984.43\n",
       "2      1260.15\n",
       "3      1059.58\n",
       "4       895.36\n",
       "5       744.96\n",
       "6       635.25\n",
       "7       514.82\n",
       "8       420.91\n",
       "9       406.34\n",
       "10      289.77\n",
       "11      288.32\n",
       "12      251.90\n",
       "13      228.24\n",
       "14      224.26\n",
       "15      218.83\n",
       "16      217.02\n",
       "17      189.99\n",
       "18      187.82\n",
       "19      177.80\n",
       "20      172.62\n",
       "21      169.16\n",
       "22      155.16\n",
       "23      116.46\n",
       "24      114.18\n",
       "25      113.04\n",
       "26      108.87\n",
       "27      107.04\n",
       "28       99.52\n",
       "29       89.76\n",
       "30       74.17\n",
       "31       71.69\n",
       "32       70.04\n",
       "33       64.05\n",
       "34       62.87\n",
       "35       58.16\n",
       "36       58.11\n",
       "37       57.16\n",
       "38       56.08\n",
       "39       44.49\n",
       "40       44.24\n",
       "41       40.61\n",
       "42       35.89\n",
       "43       28.64\n",
       "44       25.56\n",
       "45       23.00\n",
       "46       17.44\n",
       "47       11.81\n",
       "48       11.23\n",
       "49        7.59\n",
       "50        5.96\n",
       "51        1.28\n",
       "Name: people per square mile, dtype: float64"
      ]
     },
     "execution_count": 12,
     "metadata": {},
     "output_type": "execute_result"
    }
   ],
   "source": [
    "state = pop_density_df['State']\n",
    "pop_density_df['people per square mile']"
   ]
  }
 ],
 "metadata": {
  "kernelspec": {
   "display_name": "Python 3",
   "language": "python",
   "name": "python3"
  },
  "language_info": {
   "codemirror_mode": {
    "name": "ipython",
    "version": 3
   },
   "file_extension": ".py",
   "mimetype": "text/x-python",
   "name": "python",
   "nbconvert_exporter": "python",
   "pygments_lexer": "ipython3",
   "version": "3.10.10"
  },
  "orig_nbformat": 4
 },
 "nbformat": 4,
 "nbformat_minor": 2
}
