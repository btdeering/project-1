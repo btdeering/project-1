{
 "cells": [
  {
   "cell_type": "code",
   "execution_count": 31,
   "metadata": {},
   "outputs": [],
   "source": [
    "from pathlib import Path\n",
    "import pandas as pd\n",
    "import scipy.stats as stats\n",
    "import matplotlib.pyplot as plt\n",
    "import numpy as np\n",
    "import scipy.stats as st\n"
   ]
  },
  {
   "attachments": {},
   "cell_type": "markdown",
   "metadata": {},
   "source": [
    "## Vaccination Rate Per State\n"
   ]
  },
  {
   "cell_type": "code",
   "execution_count": 32,
   "metadata": {},
   "outputs": [],
   "source": [
    "df = pd.read_csv(\"C:/Users/Marquis Sills/Desktop/DataBootCamp/project_1/data-table.csv\")\n"
   ]
  },
  {
   "cell_type": "code",
   "execution_count": 33,
   "metadata": {},
   "outputs": [
    {
     "data": {
      "text/html": [
       "<div>\n",
       "<style scoped>\n",
       "    .dataframe tbody tr th:only-of-type {\n",
       "        vertical-align: middle;\n",
       "    }\n",
       "\n",
       "    .dataframe tbody tr th {\n",
       "        vertical-align: top;\n",
       "    }\n",
       "\n",
       "    .dataframe thead th {\n",
       "        text-align: right;\n",
       "    }\n",
       "</style>\n",
       "<table border=\"1\" class=\"dataframe\">\n",
       "  <thead>\n",
       "    <tr style=\"text-align: right;\">\n",
       "      <th></th>\n",
       "      <th>State Name</th>\n",
       "      <th>people_fully_vaccinated %</th>\n",
       "      <th>% deaths in 2021</th>\n",
       "    </tr>\n",
       "  </thead>\n",
       "  <tbody>\n",
       "    <tr>\n",
       "      <th>11</th>\n",
       "      <td>Idaho</td>\n",
       "      <td>0.426030</td>\n",
       "      <td>0.001241</td>\n",
       "    </tr>\n",
       "    <tr>\n",
       "      <th>0</th>\n",
       "      <td>Alabama</td>\n",
       "      <td>0.460230</td>\n",
       "      <td>0.001870</td>\n",
       "    </tr>\n",
       "    <tr>\n",
       "      <th>49</th>\n",
       "      <td>Wyoming</td>\n",
       "      <td>0.473091</td>\n",
       "      <td>0.001765</td>\n",
       "    </tr>\n",
       "    <tr>\n",
       "      <th>23</th>\n",
       "      <td>Mississippi</td>\n",
       "      <td>0.486558</td>\n",
       "      <td>0.001729</td>\n",
       "    </tr>\n",
       "    <tr>\n",
       "      <th>9</th>\n",
       "      <td>Georgia</td>\n",
       "      <td>0.496962</td>\n",
       "      <td>0.001451</td>\n",
       "    </tr>\n",
       "    <tr>\n",
       "      <th>41</th>\n",
       "      <td>Tennessee</td>\n",
       "      <td>0.497415</td>\n",
       "      <td>0.001689</td>\n",
       "    </tr>\n",
       "    <tr>\n",
       "      <th>3</th>\n",
       "      <td>Arkansas</td>\n",
       "      <td>0.507451</td>\n",
       "      <td>0.001556</td>\n",
       "    </tr>\n",
       "    <tr>\n",
       "      <th>17</th>\n",
       "      <td>Louisiana</td>\n",
       "      <td>0.509028</td>\n",
       "      <td>0.001379</td>\n",
       "    </tr>\n",
       "    <tr>\n",
       "      <th>13</th>\n",
       "      <td>Indiana</td>\n",
       "      <td>0.512333</td>\n",
       "      <td>0.001253</td>\n",
       "    </tr>\n",
       "    <tr>\n",
       "      <th>33</th>\n",
       "      <td>North Dakota</td>\n",
       "      <td>0.513936</td>\n",
       "      <td>0.000819</td>\n",
       "    </tr>\n",
       "  </tbody>\n",
       "</table>\n",
       "</div>"
      ],
      "text/plain": [
       "      State Name  people_fully_vaccinated %  % deaths in 2021\n",
       "11         Idaho                   0.426030          0.001241\n",
       "0        Alabama                   0.460230          0.001870\n",
       "49       Wyoming                   0.473091          0.001765\n",
       "23   Mississippi                   0.486558          0.001729\n",
       "9        Georgia                   0.496962          0.001451\n",
       "41     Tennessee                   0.497415          0.001689\n",
       "3       Arkansas                   0.507451          0.001556\n",
       "17     Louisiana                   0.509028          0.001379\n",
       "13       Indiana                   0.512333          0.001253\n",
       "33  North Dakota                   0.513936          0.000819"
      ]
     },
     "execution_count": 33,
     "metadata": {},
     "output_type": "execute_result"
    }
   ],
   "source": [
    "# Sort the schools by `% Overall Passing` in ascending order and display the top 5 rows.\n",
    "\n",
    "bottom_vaccine = df.sort_values(\"people_fully_vaccinated %\", ascending=True)\n",
    "vaccine_low=bottom_vaccine.head(10)\n",
    "low_vac=vaccine_low[['State Name','people_fully_vaccinated %','% deaths in 2021']]\n",
    "low_vac "
   ]
  },
  {
   "cell_type": "code",
   "execution_count": 34,
   "metadata": {},
   "outputs": [
    {
     "data": {
      "text/html": [
       "<div>\n",
       "<style scoped>\n",
       "    .dataframe tbody tr th:only-of-type {\n",
       "        vertical-align: middle;\n",
       "    }\n",
       "\n",
       "    .dataframe tbody tr th {\n",
       "        vertical-align: top;\n",
       "    }\n",
       "\n",
       "    .dataframe thead th {\n",
       "        text-align: right;\n",
       "    }\n",
       "</style>\n",
       "<table border=\"1\" class=\"dataframe\">\n",
       "  <thead>\n",
       "    <tr style=\"text-align: right;\">\n",
       "      <th></th>\n",
       "      <th>State Name</th>\n",
       "      <th>people_fully_vaccinated %</th>\n",
       "      <th>% deaths in 2021</th>\n",
       "    </tr>\n",
       "  </thead>\n",
       "  <tbody>\n",
       "    <tr>\n",
       "      <th>44</th>\n",
       "      <td>Vermont</td>\n",
       "      <td>0.746333</td>\n",
       "      <td>0.000403</td>\n",
       "    </tr>\n",
       "    <tr>\n",
       "      <th>38</th>\n",
       "      <td>Rhode Island</td>\n",
       "      <td>0.740498</td>\n",
       "      <td>0.000895</td>\n",
       "    </tr>\n",
       "    <tr>\n",
       "      <th>20</th>\n",
       "      <td>Massachusetts</td>\n",
       "      <td>0.736196</td>\n",
       "      <td>0.000697</td>\n",
       "    </tr>\n",
       "    <tr>\n",
       "      <th>18</th>\n",
       "      <td>Maine</td>\n",
       "      <td>0.735710</td>\n",
       "      <td>0.000961</td>\n",
       "    </tr>\n",
       "    <tr>\n",
       "      <th>6</th>\n",
       "      <td>Connecticut</td>\n",
       "      <td>0.733502</td>\n",
       "      <td>0.000751</td>\n",
       "    </tr>\n",
       "    <tr>\n",
       "      <th>31</th>\n",
       "      <td>New York</td>\n",
       "      <td>0.709543</td>\n",
       "      <td>0.001102</td>\n",
       "    </tr>\n",
       "    <tr>\n",
       "      <th>19</th>\n",
       "      <td>Maryland</td>\n",
       "      <td>0.690404</td>\n",
       "      <td>0.000853</td>\n",
       "    </tr>\n",
       "    <tr>\n",
       "      <th>29</th>\n",
       "      <td>New Jersey</td>\n",
       "      <td>0.676039</td>\n",
       "      <td>0.000909</td>\n",
       "    </tr>\n",
       "    <tr>\n",
       "      <th>45</th>\n",
       "      <td>Virginia</td>\n",
       "      <td>0.667949</td>\n",
       "      <td>0.001035</td>\n",
       "    </tr>\n",
       "    <tr>\n",
       "      <th>46</th>\n",
       "      <td>Washington</td>\n",
       "      <td>0.664252</td>\n",
       "      <td>0.000700</td>\n",
       "    </tr>\n",
       "  </tbody>\n",
       "</table>\n",
       "</div>"
      ],
      "text/plain": [
       "       State Name  people_fully_vaccinated %  % deaths in 2021\n",
       "44        Vermont                   0.746333          0.000403\n",
       "38   Rhode Island                   0.740498          0.000895\n",
       "20  Massachusetts                   0.736196          0.000697\n",
       "18          Maine                   0.735710          0.000961\n",
       "6     Connecticut                   0.733502          0.000751\n",
       "31       New York                   0.709543          0.001102\n",
       "19       Maryland                   0.690404          0.000853\n",
       "29     New Jersey                   0.676039          0.000909\n",
       "45       Virginia                   0.667949          0.001035\n",
       "46     Washington                   0.664252          0.000700"
      ]
     },
     "execution_count": 34,
     "metadata": {},
     "output_type": "execute_result"
    }
   ],
   "source": [
    "top_vaccine = df.sort_values(\"people_fully_vaccinated %\", ascending=False)\n",
    "high_vaccine=top_vaccine.head(10) \n",
    "high_vac=high_vaccine[['State Name','people_fully_vaccinated %','% deaths in 2021']]\n",
    "high_vac"
   ]
  },
  {
   "cell_type": "code",
   "execution_count": 35,
   "metadata": {},
   "outputs": [
    {
     "name": "stdout",
     "output_type": "stream",
     "text": [
      "{'whiskers': [<matplotlib.lines.Line2D object at 0x00000222EBEEBAC0>, <matplotlib.lines.Line2D object at 0x00000222EBEEBD60>, <matplotlib.lines.Line2D object at 0x00000222EBEFDD60>, <matplotlib.lines.Line2D object at 0x00000222EBF0B040>], 'caps': [<matplotlib.lines.Line2D object at 0x00000222EBEFD040>, <matplotlib.lines.Line2D object at 0x00000222EBEFD2E0>, <matplotlib.lines.Line2D object at 0x00000222EBF0B2E0>, <matplotlib.lines.Line2D object at 0x00000222EBF0B580>], 'boxes': [<matplotlib.lines.Line2D object at 0x00000222EBEEB820>, <matplotlib.lines.Line2D object at 0x00000222EBEFDAC0>], 'medians': [<matplotlib.lines.Line2D object at 0x00000222EBEFD580>, <matplotlib.lines.Line2D object at 0x00000222EBF0B820>], 'fliers': [<matplotlib.lines.Line2D object at 0x00000222EBEFD820>, <matplotlib.lines.Line2D object at 0x00000222EBF0BAC0>], 'means': []}\n"
     ]
    },
    {
     "data": {
      "image/png": "[encoded data removed]",
      "text/plain": [
       "<Figure size 640x480 with 1 Axes>"
      ]
     },
     "metadata": {},
     "output_type": "display_data"
    }
   ],
   "source": [
    "vaccination_rate = [low_vac['% deaths in 2021']*100,high_vac['% deaths in 2021']*100]\n",
    "\n",
    "fig1, ax1 = plt.subplots()\n",
    "ax1.set_ylabel('Covid Deaths (Covid Deaths per State/Population per State)')\n",
    "labels = ['Low Vaccine Rate','High Vaccine Rate']\n",
    "plt.title(\"Covid Death Rates by Vaccination Rate\")\n",
    "\n",
    "print(ax1.boxplot(vaccination_rate,labels = labels,flierprops={'markerfacecolor': 'red', 'marker': 'o','markersize': 10}))"
   ]
  },
  {
   "cell_type": "code",
   "execution_count": 36,
   "metadata": {},
   "outputs": [
    {
     "name": "stdout",
     "output_type": "stream",
     "text": [
      "The mean covid death rates for low vaccination rates are 0.14752017\n",
      "The median covid death rates for low vaccination rates are 0.15034714999999998\n",
      "The standard deviation of covid deaths for low vaccination are 0.03002158417545783\n"
     ]
    }
   ],
   "source": [
    "mean_numpy = np.mean(low_vac['% deaths in 2021']*100)\n",
    "print(f\"The mean covid death rates for low vaccination rates are {mean_numpy}\")\n",
    "\n",
    "median_numpy = np.median(low_vac['% deaths in 2021']*100)\n",
    "print(f\"The median covid death rates for low vaccination rates are {median_numpy}\")\n",
    "\n",
    "standard_deviation_numpy = np.std(low_vac['% deaths in 2021']*100)\n",
    "print(f\"The standard deviation of covid deaths for low vaccination are {standard_deviation_numpy}\")"
   ]
  },
  {
   "cell_type": "code",
   "execution_count": 37,
   "metadata": {},
   "outputs": [
    {
     "name": "stdout",
     "output_type": "stream",
     "text": [
      "The mean covid death rates for high vaccination rates are 0.08305801\n",
      "The median covid death rates for high vaccination rates are 0.08738505\n",
      "The standard deviation of covid deaths for high vaccination are 0.019155192188879233\n"
     ]
    }
   ],
   "source": [
    "mean_numpy = np.mean(high_vac['% deaths in 2021']*100)\n",
    "print(f\"The mean covid death rates for high vaccination rates are {mean_numpy}\")\n",
    "\n",
    "median_numpy = np.median(high_vac['% deaths in 2021']*100)\n",
    "print(f\"The median covid death rates for high vaccination rates are {median_numpy}\")\n",
    "\n",
    "standard_deviation_numpy = np.std(high_vac['% deaths in 2021']*100)\n",
    "print(f\"The standard deviation of covid deaths for high vaccination are {standard_deviation_numpy}\")"
   ]
  },
  {
   "cell_type": "code",
   "execution_count": 38,
   "metadata": {},
   "outputs": [
    {
     "name": "stdout",
     "output_type": "stream",
     "text": [
      " Normal test Low Vaccine Rate NormaltestResult(statistic=2.043852034656131, pvalue=0.3599010964618845)\n",
      " Normal test High Vaccine Rate NormaltestResult(statistic=2.569687014562735, pvalue=0.27669388082167634)\n"
     ]
    },
    {
     "name": "stderr",
     "output_type": "stream",
     "text": [
      "c:\\Anaconda\\lib\\site-packages\\scipy\\stats\\_stats_py.py:1736: UserWarning: kurtosistest only valid for n>=20 ... continuing anyway, n=10\n",
      "  warnings.warn(\"kurtosistest only valid for n>=20 ... continuing \"\n"
     ]
    }
   ],
   "source": [
    "print(f\" Normal test Low Vaccine Rate {st.normaltest(low_vac['% deaths in 2021']*100)}\")\n",
    "print(f\" Normal test High Vaccine Rate {st.normaltest(high_vac['% deaths in 2021']*100)}\")\n"
   ]
  },
  {
   "cell_type": "code",
   "execution_count": 39,
   "metadata": {},
   "outputs": [
    {
     "data": {
      "text/plain": [
       "Ttest_indResult(statistic=-5.43036897816297, pvalue=6.513600168732206e-05)"
      ]
     },
     "execution_count": 39,
     "metadata": {},
     "output_type": "execute_result"
    }
   ],
   "source": [
    "# Calculate Independent (Two Sample) t-test\n",
    "stats.ttest_ind(high_vac['% deaths in 2021']*100, low_vac['% deaths in 2021']*100, equal_var=False)"
   ]
  },
  {
   "cell_type": "code",
   "execution_count": null,
   "metadata": {},
   "outputs": [],
   "source": []
  }
 ],
 "metadata": {
  "kernelspec": {
   "display_name": "base",
   "language": "python",
   "name": "python3"
  },
  "language_info": {
   "codemirror_mode": {
    "name": "ipython",
    "version": 3
   },
   "file_extension": ".py",
   "mimetype": "text/x-python",
   "name": "python",
   "nbconvert_exporter": "python",
   "pygments_lexer": "ipython3",
   "version": "3.9.16"
  },
  "orig_nbformat": 4
 },
 "nbformat": 4,
 "nbformat_minor": 2
}
